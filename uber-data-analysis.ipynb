{
 "cells": [
  {
   "cell_type": "markdown",
   "id": "41c4dbda",
   "metadata": {
    "papermill": {
     "duration": 0.014611,
     "end_time": "2025-09-01T02:11:32.827795",
     "exception": false,
     "start_time": "2025-09-01T02:11:32.813184",
     "status": "completed"
    },
    "tags": []
   },
   "source": [
    "# Exploratory Data Analysis (EDA)\n",
    "\n",
    "### Objective:\n",
    "### To uncover meaningful patterns, perform data cleaning, and derive actionable insights through a detailed analysis of the dataset.\n",
    "\n",
    "### Scope:\n",
    "\n",
    "### Identify trends and outliers\n",
    "\n",
    "### Clean and preprocess raw data\n",
    "\n",
    "### Visualize and interpret key statistics\n",
    "\n",
    "### Created by: Kiran S Radhakrishnan\n",
    "### Dataset Source: Uber Data Analytics – Kaggle"
   ]
  },
  {
   "cell_type": "code",
   "execution_count": 1,
   "id": "94d64917",
   "metadata": {
    "_cell_guid": "b1076dfc-b9ad-4769-8c92-a6c4dae69d19",
    "_uuid": "8f2839f25d086af736a60e9eeb907d3b93b6e0e5",
    "execution": {
     "iopub.execute_input": "2025-09-01T02:11:32.851986Z",
     "iopub.status.busy": "2025-09-01T02:11:32.851580Z",
     "iopub.status.idle": "2025-09-01T02:11:34.833608Z",
     "shell.execute_reply": "2025-09-01T02:11:34.832371Z"
    },
    "papermill": {
     "duration": 1.997336,
     "end_time": "2025-09-01T02:11:34.835209",
     "exception": false,
     "start_time": "2025-09-01T02:11:32.837873",
     "status": "completed"
    },
    "tags": []
   },
   "outputs": [
    {
     "name": "stdout",
     "output_type": "stream",
     "text": [
      "/kaggle/input/uber-ride-analytics-dashboard/ncr_ride_bookings.csv\n",
      "/kaggle/input/uber-ride-analytics-dashboard/Dasboard.gif\n",
      "/kaggle/input/uber-ride-analytics-dashboard/Uber.pbix\n"
     ]
    }
   ],
   "source": [
    "import numpy as np # linear algebra\n",
    "import pandas as pd # data processing, CSV file I/O (e.g. pd.read_csv)\n",
    "\n",
    "import os\n",
    "for dirname, _, filenames in os.walk('/kaggle/input'):\n",
    "    for filename in filenames:\n",
    "        print(os.path.join(dirname, filename))"
   ]
  },
  {
   "cell_type": "code",
   "execution_count": 2,
   "id": "54279d71",
   "metadata": {
    "execution": {
     "iopub.execute_input": "2025-09-01T02:11:34.854934Z",
     "iopub.status.busy": "2025-09-01T02:11:34.854520Z",
     "iopub.status.idle": "2025-09-01T02:11:37.202698Z",
     "shell.execute_reply": "2025-09-01T02:11:37.201771Z"
    },
    "papermill": {
     "duration": 2.359761,
     "end_time": "2025-09-01T02:11:37.204029",
     "exception": false,
     "start_time": "2025-09-01T02:11:34.844268",
     "status": "completed"
    },
    "tags": []
   },
   "outputs": [
    {
     "name": "stdout",
     "output_type": "stream",
     "text": [
      "Path to dataset files: /kaggle/input/uber-ride-analytics-dashboard\n"
     ]
    }
   ],
   "source": [
    "import kagglehub\n",
    "import warnings\n",
    "import seaborn as sns\n",
    "import matplotlib.pyplot as plt\n",
    "warnings.filterwarnings('ignore')\n",
    "\n",
    "# Download latest version\n",
    "path = kagglehub.dataset_download(\"yashdevladdha/uber-ride-analytics-dashboard\")\n",
    "\n",
    "print(\"Path to dataset files:\", path)"
   ]
  },
  {
   "cell_type": "code",
   "execution_count": 3,
   "id": "637f2714",
   "metadata": {
    "execution": {
     "iopub.execute_input": "2025-09-01T02:11:37.221837Z",
     "iopub.status.busy": "2025-09-01T02:11:37.221384Z",
     "iopub.status.idle": "2025-09-01T02:11:38.484513Z",
     "shell.execute_reply": "2025-09-01T02:11:38.483704Z"
    },
    "papermill": {
     "duration": 1.273842,
     "end_time": "2025-09-01T02:11:38.486086",
     "exception": false,
     "start_time": "2025-09-01T02:11:37.212244",
     "status": "completed"
    },
    "tags": []
   },
   "outputs": [],
   "source": [
    "df = pd.read_csv('/kaggle/input/uber-ride-analytics-dashboard/ncr_ride_bookings.csv')"
   ]
  },
  {
   "cell_type": "code",
   "execution_count": 4,
   "id": "7542e52d",
   "metadata": {
    "execution": {
     "iopub.execute_input": "2025-09-01T02:11:38.503843Z",
     "iopub.status.busy": "2025-09-01T02:11:38.503535Z",
     "iopub.status.idle": "2025-09-01T02:11:38.541193Z",
     "shell.execute_reply": "2025-09-01T02:11:38.540368Z"
    },
    "papermill": {
     "duration": 0.048389,
     "end_time": "2025-09-01T02:11:38.542780",
     "exception": false,
     "start_time": "2025-09-01T02:11:38.494391",
     "status": "completed"
    },
    "tags": []
   },
   "outputs": [
    {
     "data": {
      "text/html": [
       "<div>\n",
       "<style scoped>\n",
       "    .dataframe tbody tr th:only-of-type {\n",
       "        vertical-align: middle;\n",
       "    }\n",
       "\n",
       "    .dataframe tbody tr th {\n",
       "        vertical-align: top;\n",
       "    }\n",
       "\n",
       "    .dataframe thead th {\n",
       "        text-align: right;\n",
       "    }\n",
       "</style>\n",
       "<table border=\"1\" class=\"dataframe\">\n",
       "  <thead>\n",
       "    <tr style=\"text-align: right;\">\n",
       "      <th></th>\n",
       "      <th>Date</th>\n",
       "      <th>Time</th>\n",
       "      <th>Booking ID</th>\n",
       "      <th>Booking Status</th>\n",
       "      <th>Customer ID</th>\n",
       "      <th>Vehicle Type</th>\n",
       "      <th>Pickup Location</th>\n",
       "      <th>Drop Location</th>\n",
       "      <th>Avg VTAT</th>\n",
       "      <th>Avg CTAT</th>\n",
       "      <th>...</th>\n",
       "      <th>Reason for cancelling by Customer</th>\n",
       "      <th>Cancelled Rides by Driver</th>\n",
       "      <th>Driver Cancellation Reason</th>\n",
       "      <th>Incomplete Rides</th>\n",
       "      <th>Incomplete Rides Reason</th>\n",
       "      <th>Booking Value</th>\n",
       "      <th>Ride Distance</th>\n",
       "      <th>Driver Ratings</th>\n",
       "      <th>Customer Rating</th>\n",
       "      <th>Payment Method</th>\n",
       "    </tr>\n",
       "  </thead>\n",
       "  <tbody>\n",
       "    <tr>\n",
       "      <th>0</th>\n",
       "      <td>2024-03-23</td>\n",
       "      <td>12:29:38</td>\n",
       "      <td>\"CNR5884300\"</td>\n",
       "      <td>No Driver Found</td>\n",
       "      <td>\"CID1982111\"</td>\n",
       "      <td>eBike</td>\n",
       "      <td>Palam Vihar</td>\n",
       "      <td>Jhilmil</td>\n",
       "      <td>NaN</td>\n",
       "      <td>NaN</td>\n",
       "      <td>...</td>\n",
       "      <td>NaN</td>\n",
       "      <td>NaN</td>\n",
       "      <td>NaN</td>\n",
       "      <td>NaN</td>\n",
       "      <td>NaN</td>\n",
       "      <td>NaN</td>\n",
       "      <td>NaN</td>\n",
       "      <td>NaN</td>\n",
       "      <td>NaN</td>\n",
       "      <td>NaN</td>\n",
       "    </tr>\n",
       "    <tr>\n",
       "      <th>1</th>\n",
       "      <td>2024-11-29</td>\n",
       "      <td>18:01:39</td>\n",
       "      <td>\"CNR1326809\"</td>\n",
       "      <td>Incomplete</td>\n",
       "      <td>\"CID4604802\"</td>\n",
       "      <td>Go Sedan</td>\n",
       "      <td>Shastri Nagar</td>\n",
       "      <td>Gurgaon Sector 56</td>\n",
       "      <td>4.9</td>\n",
       "      <td>14.0</td>\n",
       "      <td>...</td>\n",
       "      <td>NaN</td>\n",
       "      <td>NaN</td>\n",
       "      <td>NaN</td>\n",
       "      <td>1.0</td>\n",
       "      <td>Vehicle Breakdown</td>\n",
       "      <td>237.0</td>\n",
       "      <td>5.73</td>\n",
       "      <td>NaN</td>\n",
       "      <td>NaN</td>\n",
       "      <td>UPI</td>\n",
       "    </tr>\n",
       "    <tr>\n",
       "      <th>2</th>\n",
       "      <td>2024-08-23</td>\n",
       "      <td>08:56:10</td>\n",
       "      <td>\"CNR8494506\"</td>\n",
       "      <td>Completed</td>\n",
       "      <td>\"CID9202816\"</td>\n",
       "      <td>Auto</td>\n",
       "      <td>Khandsa</td>\n",
       "      <td>Malviya Nagar</td>\n",
       "      <td>13.4</td>\n",
       "      <td>25.8</td>\n",
       "      <td>...</td>\n",
       "      <td>NaN</td>\n",
       "      <td>NaN</td>\n",
       "      <td>NaN</td>\n",
       "      <td>NaN</td>\n",
       "      <td>NaN</td>\n",
       "      <td>627.0</td>\n",
       "      <td>13.58</td>\n",
       "      <td>4.9</td>\n",
       "      <td>4.9</td>\n",
       "      <td>Debit Card</td>\n",
       "    </tr>\n",
       "    <tr>\n",
       "      <th>3</th>\n",
       "      <td>2024-10-21</td>\n",
       "      <td>17:17:25</td>\n",
       "      <td>\"CNR8906825\"</td>\n",
       "      <td>Completed</td>\n",
       "      <td>\"CID2610914\"</td>\n",
       "      <td>Premier Sedan</td>\n",
       "      <td>Central Secretariat</td>\n",
       "      <td>Inderlok</td>\n",
       "      <td>13.1</td>\n",
       "      <td>28.5</td>\n",
       "      <td>...</td>\n",
       "      <td>NaN</td>\n",
       "      <td>NaN</td>\n",
       "      <td>NaN</td>\n",
       "      <td>NaN</td>\n",
       "      <td>NaN</td>\n",
       "      <td>416.0</td>\n",
       "      <td>34.02</td>\n",
       "      <td>4.6</td>\n",
       "      <td>5.0</td>\n",
       "      <td>UPI</td>\n",
       "    </tr>\n",
       "    <tr>\n",
       "      <th>4</th>\n",
       "      <td>2024-09-16</td>\n",
       "      <td>22:08:00</td>\n",
       "      <td>\"CNR1950162\"</td>\n",
       "      <td>Completed</td>\n",
       "      <td>\"CID9933542\"</td>\n",
       "      <td>Bike</td>\n",
       "      <td>Ghitorni Village</td>\n",
       "      <td>Khan Market</td>\n",
       "      <td>5.3</td>\n",
       "      <td>19.6</td>\n",
       "      <td>...</td>\n",
       "      <td>NaN</td>\n",
       "      <td>NaN</td>\n",
       "      <td>NaN</td>\n",
       "      <td>NaN</td>\n",
       "      <td>NaN</td>\n",
       "      <td>737.0</td>\n",
       "      <td>48.21</td>\n",
       "      <td>4.1</td>\n",
       "      <td>4.3</td>\n",
       "      <td>UPI</td>\n",
       "    </tr>\n",
       "  </tbody>\n",
       "</table>\n",
       "<p>5 rows × 21 columns</p>\n",
       "</div>"
      ],
      "text/plain": [
       "         Date      Time    Booking ID   Booking Status   Customer ID  \\\n",
       "0  2024-03-23  12:29:38  \"CNR5884300\"  No Driver Found  \"CID1982111\"   \n",
       "1  2024-11-29  18:01:39  \"CNR1326809\"       Incomplete  \"CID4604802\"   \n",
       "2  2024-08-23  08:56:10  \"CNR8494506\"        Completed  \"CID9202816\"   \n",
       "3  2024-10-21  17:17:25  \"CNR8906825\"        Completed  \"CID2610914\"   \n",
       "4  2024-09-16  22:08:00  \"CNR1950162\"        Completed  \"CID9933542\"   \n",
       "\n",
       "    Vehicle Type      Pickup Location      Drop Location  Avg VTAT  Avg CTAT  \\\n",
       "0          eBike          Palam Vihar            Jhilmil       NaN       NaN   \n",
       "1       Go Sedan        Shastri Nagar  Gurgaon Sector 56       4.9      14.0   \n",
       "2           Auto              Khandsa      Malviya Nagar      13.4      25.8   \n",
       "3  Premier Sedan  Central Secretariat           Inderlok      13.1      28.5   \n",
       "4           Bike     Ghitorni Village        Khan Market       5.3      19.6   \n",
       "\n",
       "   ...  Reason for cancelling by Customer Cancelled Rides by Driver  \\\n",
       "0  ...                                NaN                       NaN   \n",
       "1  ...                                NaN                       NaN   \n",
       "2  ...                                NaN                       NaN   \n",
       "3  ...                                NaN                       NaN   \n",
       "4  ...                                NaN                       NaN   \n",
       "\n",
       "   Driver Cancellation Reason Incomplete Rides  Incomplete Rides Reason  \\\n",
       "0                         NaN              NaN                      NaN   \n",
       "1                         NaN              1.0        Vehicle Breakdown   \n",
       "2                         NaN              NaN                      NaN   \n",
       "3                         NaN              NaN                      NaN   \n",
       "4                         NaN              NaN                      NaN   \n",
       "\n",
       "  Booking Value  Ride Distance  Driver Ratings  Customer Rating  \\\n",
       "0           NaN            NaN             NaN              NaN   \n",
       "1         237.0           5.73             NaN              NaN   \n",
       "2         627.0          13.58             4.9              4.9   \n",
       "3         416.0          34.02             4.6              5.0   \n",
       "4         737.0          48.21             4.1              4.3   \n",
       "\n",
       "   Payment Method  \n",
       "0             NaN  \n",
       "1             UPI  \n",
       "2      Debit Card  \n",
       "3             UPI  \n",
       "4             UPI  \n",
       "\n",
       "[5 rows x 21 columns]"
      ]
     },
     "execution_count": 4,
     "metadata": {},
     "output_type": "execute_result"
    }
   ],
   "source": [
    "# Let's print the top 5 from the CSV file and look for what all things we have.\n",
    "df.head()"
   ]
  },
  {
   "cell_type": "code",
   "execution_count": 5,
   "id": "703a67e7",
   "metadata": {
    "execution": {
     "iopub.execute_input": "2025-09-01T02:11:38.561708Z",
     "iopub.status.busy": "2025-09-01T02:11:38.561387Z",
     "iopub.status.idle": "2025-09-01T02:11:38.676802Z",
     "shell.execute_reply": "2025-09-01T02:11:38.675759Z"
    },
    "papermill": {
     "duration": 0.126494,
     "end_time": "2025-09-01T02:11:38.678274",
     "exception": false,
     "start_time": "2025-09-01T02:11:38.551780",
     "status": "completed"
    },
    "tags": []
   },
   "outputs": [
    {
     "name": "stdout",
     "output_type": "stream",
     "text": [
      "<class 'pandas.core.frame.DataFrame'>\n",
      "RangeIndex: 150000 entries, 0 to 149999\n",
      "Data columns (total 21 columns):\n",
      " #   Column                             Non-Null Count   Dtype  \n",
      "---  ------                             --------------   -----  \n",
      " 0   Date                               150000 non-null  object \n",
      " 1   Time                               150000 non-null  object \n",
      " 2   Booking ID                         150000 non-null  object \n",
      " 3   Booking Status                     150000 non-null  object \n",
      " 4   Customer ID                        150000 non-null  object \n",
      " 5   Vehicle Type                       150000 non-null  object \n",
      " 6   Pickup Location                    150000 non-null  object \n",
      " 7   Drop Location                      150000 non-null  object \n",
      " 8   Avg VTAT                           139500 non-null  float64\n",
      " 9   Avg CTAT                           102000 non-null  float64\n",
      " 10  Cancelled Rides by Customer        10500 non-null   float64\n",
      " 11  Reason for cancelling by Customer  10500 non-null   object \n",
      " 12  Cancelled Rides by Driver          27000 non-null   float64\n",
      " 13  Driver Cancellation Reason         27000 non-null   object \n",
      " 14  Incomplete Rides                   9000 non-null    float64\n",
      " 15  Incomplete Rides Reason            9000 non-null    object \n",
      " 16  Booking Value                      102000 non-null  float64\n",
      " 17  Ride Distance                      102000 non-null  float64\n",
      " 18  Driver Ratings                     93000 non-null   float64\n",
      " 19  Customer Rating                    93000 non-null   float64\n",
      " 20  Payment Method                     102000 non-null  object \n",
      "dtypes: float64(9), object(12)\n",
      "memory usage: 24.0+ MB\n"
     ]
    }
   ],
   "source": [
    "#lets check the info of the file\n",
    "df.info()"
   ]
  },
  {
   "cell_type": "markdown",
   "id": "dd591d7f",
   "metadata": {
    "papermill": {
     "duration": 0.00828,
     "end_time": "2025-09-01T02:11:38.695357",
     "exception": false,
     "start_time": "2025-09-01T02:11:38.687077",
     "status": "completed"
    },
    "tags": []
   },
   "source": [
    "#### There are a lot of null values. If we are trying to drop the NaN or NA values. it will significantly reduce the size of the dataset. Instead, we need to do something. "
   ]
  },
  {
   "cell_type": "markdown",
   "id": "fffb0535",
   "metadata": {
    "papermill": {
     "duration": 0.008076,
     "end_time": "2025-09-01T02:11:38.711711",
     "exception": false,
     "start_time": "2025-09-01T02:11:38.703635",
     "status": "completed"
    },
    "tags": []
   },
   "source": [
    "# Data Cleaning\n",
    "\n",
    "### We are addressing missing values in the dataframe. To maintain consistency and avoid null entries, any NaN values in these fields will be replaced with the placeholder \"Unknown Reason\"."
   ]
  },
  {
   "cell_type": "markdown",
   "id": "c2387893",
   "metadata": {
    "papermill": {
     "duration": 0.008093,
     "end_time": "2025-09-01T02:11:38.728238",
     "exception": false,
     "start_time": "2025-09-01T02:11:38.720145",
     "status": "completed"
    },
    "tags": []
   },
   "source": [
    "## Checking Unique Values"
   ]
  },
  {
   "cell_type": "code",
   "execution_count": 6,
   "id": "21cb0e62",
   "metadata": {
    "execution": {
     "iopub.execute_input": "2025-09-01T02:11:38.746104Z",
     "iopub.status.busy": "2025-09-01T02:11:38.745797Z",
     "iopub.status.idle": "2025-09-01T02:11:38.759317Z",
     "shell.execute_reply": "2025-09-01T02:11:38.758619Z"
    },
    "papermill": {
     "duration": 0.024133,
     "end_time": "2025-09-01T02:11:38.760639",
     "exception": false,
     "start_time": "2025-09-01T02:11:38.736506",
     "status": "completed"
    },
    "tags": []
   },
   "outputs": [
    {
     "data": {
      "text/plain": [
       "array(['eBike', 'Go Sedan', 'Auto', 'Premier Sedan', 'Bike', 'Go Mini',\n",
       "       'Uber XL'], dtype=object)"
      ]
     },
     "execution_count": 6,
     "metadata": {},
     "output_type": "execute_result"
    }
   ],
   "source": [
    "df['Vehicle Type'].unique()\n",
    "#There are 7 unique vechicle Types\n",
    "# This column is good. which indicates all the types of vehicles."
   ]
  },
  {
   "cell_type": "code",
   "execution_count": 7,
   "id": "6c777b02",
   "metadata": {
    "execution": {
     "iopub.execute_input": "2025-09-01T02:11:38.778882Z",
     "iopub.status.busy": "2025-09-01T02:11:38.778574Z",
     "iopub.status.idle": "2025-09-01T02:11:38.787117Z",
     "shell.execute_reply": "2025-09-01T02:11:38.786415Z"
    },
    "papermill": {
     "duration": 0.019189,
     "end_time": "2025-09-01T02:11:38.788357",
     "exception": false,
     "start_time": "2025-09-01T02:11:38.769168",
     "status": "completed"
    },
    "tags": []
   },
   "outputs": [
    {
     "data": {
      "text/plain": [
       "array([nan, 'Vehicle Breakdown', 'Other Issue', 'Customer Demand'],\n",
       "      dtype=object)"
      ]
     },
     "execution_count": 7,
     "metadata": {},
     "output_type": "execute_result"
    }
   ],
   "source": [
    "df['Incomplete Rides Reason'].unique()\n",
    "\n",
    "#There are 4 unique vechicle Types"
   ]
  },
  {
   "cell_type": "code",
   "execution_count": 8,
   "id": "6c787ee9",
   "metadata": {
    "execution": {
     "iopub.execute_input": "2025-09-01T02:11:38.806759Z",
     "iopub.status.busy": "2025-09-01T02:11:38.806432Z",
     "iopub.status.idle": "2025-09-01T02:11:38.816168Z",
     "shell.execute_reply": "2025-09-01T02:11:38.815365Z"
    },
    "papermill": {
     "duration": 0.020354,
     "end_time": "2025-09-01T02:11:38.817451",
     "exception": false,
     "start_time": "2025-09-01T02:11:38.797097",
     "status": "completed"
    },
    "tags": []
   },
   "outputs": [
    {
     "data": {
      "text/plain": [
       "array([nan, 'Personal & Car related issues', 'Customer related issue',\n",
       "       'More than permitted people in there',\n",
       "       'The customer was coughing/sick'], dtype=object)"
      ]
     },
     "execution_count": 8,
     "metadata": {},
     "output_type": "execute_result"
    }
   ],
   "source": [
    "df['Driver Cancellation Reason'].unique()\n",
    "#df['Reason for cancelling by Customer'].unique()\n",
    "#df['Cancelled Rides by Customer'].unique()\n",
    "#df['Cancelled Rides by Driver'].unique()\n",
    "#uncomment and check the unique values of each of it."
   ]
  },
  {
   "cell_type": "markdown",
   "id": "4dd0571f",
   "metadata": {
    "papermill": {
     "duration": 0.009573,
     "end_time": "2025-09-01T02:11:38.835784",
     "exception": false,
     "start_time": "2025-09-01T02:11:38.826211",
     "status": "completed"
    },
    "tags": []
   },
   "source": [
    "## Filling the Dataframe with values"
   ]
  },
  {
   "cell_type": "code",
   "execution_count": 9,
   "id": "205a22ac",
   "metadata": {
    "execution": {
     "iopub.execute_input": "2025-09-01T02:11:38.854770Z",
     "iopub.status.busy": "2025-09-01T02:11:38.853986Z",
     "iopub.status.idle": "2025-09-01T02:11:38.891122Z",
     "shell.execute_reply": "2025-09-01T02:11:38.890403Z"
    },
    "papermill": {
     "duration": 0.048334,
     "end_time": "2025-09-01T02:11:38.892760",
     "exception": false,
     "start_time": "2025-09-01T02:11:38.844426",
     "status": "completed"
    },
    "tags": []
   },
   "outputs": [],
   "source": [
    "df['Incomplete Rides Reason'] = df['Incomplete Rides Reason'].fillna('Reason Unkown')\n",
    "df['Driver Cancellation Reason'] = df['Driver Cancellation Reason'].fillna('Reason Unkown')\n",
    "df['Reason for cancelling by Customer'] = df['Reason for cancelling by Customer'].fillna('Reason Unkown')\n",
    "df['Incomplete Rides'] = df['Incomplete Rides'].fillna(0) # 0 Indicates completed Rides\n",
    "df['Cancelled Rides by Customer'] = df['Cancelled Rides by Customer'].fillna(0) # 0 Indicates non cancelled Rides\n",
    "df['Cancelled Rides by Driver'] = df['Cancelled Rides by Driver'].fillna(0) # 0 Indicates non cancelled Rides"
   ]
  },
  {
   "cell_type": "code",
   "execution_count": 10,
   "id": "c0ddba8c",
   "metadata": {
    "execution": {
     "iopub.execute_input": "2025-09-01T02:11:38.911865Z",
     "iopub.status.busy": "2025-09-01T02:11:38.911103Z",
     "iopub.status.idle": "2025-09-01T02:11:39.024125Z",
     "shell.execute_reply": "2025-09-01T02:11:39.023229Z"
    },
    "papermill": {
     "duration": 0.124097,
     "end_time": "2025-09-01T02:11:39.025710",
     "exception": false,
     "start_time": "2025-09-01T02:11:38.901613",
     "status": "completed"
    },
    "tags": []
   },
   "outputs": [
    {
     "name": "stdout",
     "output_type": "stream",
     "text": [
      "<class 'pandas.core.frame.DataFrame'>\n",
      "RangeIndex: 150000 entries, 0 to 149999\n",
      "Data columns (total 21 columns):\n",
      " #   Column                             Non-Null Count   Dtype  \n",
      "---  ------                             --------------   -----  \n",
      " 0   Date                               150000 non-null  object \n",
      " 1   Time                               150000 non-null  object \n",
      " 2   Booking ID                         150000 non-null  object \n",
      " 3   Booking Status                     150000 non-null  object \n",
      " 4   Customer ID                        150000 non-null  object \n",
      " 5   Vehicle Type                       150000 non-null  object \n",
      " 6   Pickup Location                    150000 non-null  object \n",
      " 7   Drop Location                      150000 non-null  object \n",
      " 8   Avg VTAT                           139500 non-null  float64\n",
      " 9   Avg CTAT                           102000 non-null  float64\n",
      " 10  Cancelled Rides by Customer        150000 non-null  float64\n",
      " 11  Reason for cancelling by Customer  150000 non-null  object \n",
      " 12  Cancelled Rides by Driver          150000 non-null  float64\n",
      " 13  Driver Cancellation Reason         150000 non-null  object \n",
      " 14  Incomplete Rides                   150000 non-null  float64\n",
      " 15  Incomplete Rides Reason            150000 non-null  object \n",
      " 16  Booking Value                      102000 non-null  float64\n",
      " 17  Ride Distance                      102000 non-null  float64\n",
      " 18  Driver Ratings                     93000 non-null   float64\n",
      " 19  Customer Rating                    93000 non-null   float64\n",
      " 20  Payment Method                     102000 non-null  object \n",
      "dtypes: float64(9), object(12)\n",
      "memory usage: 24.0+ MB\n"
     ]
    }
   ],
   "source": [
    "df.info()"
   ]
  },
  {
   "cell_type": "markdown",
   "id": "73b04792",
   "metadata": {
    "papermill": {
     "duration": 0.008562,
     "end_time": "2025-09-01T02:11:39.104210",
     "exception": false,
     "start_time": "2025-09-01T02:11:39.095648",
     "status": "completed"
    },
    "tags": []
   },
   "source": [
    "## Dropping Unwanted Columns"
   ]
  },
  {
   "cell_type": "code",
   "execution_count": 11,
   "id": "868709cd",
   "metadata": {
    "execution": {
     "iopub.execute_input": "2025-09-01T02:11:39.123489Z",
     "iopub.status.busy": "2025-09-01T02:11:39.122686Z",
     "iopub.status.idle": "2025-09-01T02:11:39.141542Z",
     "shell.execute_reply": "2025-09-01T02:11:39.140610Z"
    },
    "papermill": {
     "duration": 0.030225,
     "end_time": "2025-09-01T02:11:39.143145",
     "exception": false,
     "start_time": "2025-09-01T02:11:39.112920",
     "status": "completed"
    },
    "tags": []
   },
   "outputs": [],
   "source": [
    "df = df.drop(['Driver Ratings', 'Customer Rating','Date','Booking ID','Booking Status','Customer ID'], axis=1)\n",
    "# for now, let's drop these columns. And not trying to fill the value with 0, 1, or the mean."
   ]
  },
  {
   "cell_type": "code",
   "execution_count": 12,
   "id": "5deab633",
   "metadata": {
    "execution": {
     "iopub.execute_input": "2025-09-01T02:11:39.162788Z",
     "iopub.status.busy": "2025-09-01T02:11:39.161917Z",
     "iopub.status.idle": "2025-09-01T02:11:39.241152Z",
     "shell.execute_reply": "2025-09-01T02:11:39.240113Z"
    },
    "papermill": {
     "duration": 0.090614,
     "end_time": "2025-09-01T02:11:39.242772",
     "exception": false,
     "start_time": "2025-09-01T02:11:39.152158",
     "status": "completed"
    },
    "tags": []
   },
   "outputs": [
    {
     "name": "stdout",
     "output_type": "stream",
     "text": [
      "<class 'pandas.core.frame.DataFrame'>\n",
      "RangeIndex: 150000 entries, 0 to 149999\n",
      "Data columns (total 15 columns):\n",
      " #   Column                             Non-Null Count   Dtype  \n",
      "---  ------                             --------------   -----  \n",
      " 0   Time                               150000 non-null  object \n",
      " 1   Vehicle Type                       150000 non-null  object \n",
      " 2   Pickup Location                    150000 non-null  object \n",
      " 3   Drop Location                      150000 non-null  object \n",
      " 4   Avg VTAT                           139500 non-null  float64\n",
      " 5   Avg CTAT                           102000 non-null  float64\n",
      " 6   Cancelled Rides by Customer        150000 non-null  float64\n",
      " 7   Reason for cancelling by Customer  150000 non-null  object \n",
      " 8   Cancelled Rides by Driver          150000 non-null  float64\n",
      " 9   Driver Cancellation Reason         150000 non-null  object \n",
      " 10  Incomplete Rides                   150000 non-null  float64\n",
      " 11  Incomplete Rides Reason            150000 non-null  object \n",
      " 12  Booking Value                      102000 non-null  float64\n",
      " 13  Ride Distance                      102000 non-null  float64\n",
      " 14  Payment Method                     102000 non-null  object \n",
      "dtypes: float64(7), object(8)\n",
      "memory usage: 17.2+ MB\n"
     ]
    }
   ],
   "source": [
    "df.info()"
   ]
  },
  {
   "cell_type": "code",
   "execution_count": 13,
   "id": "4a482a63",
   "metadata": {
    "execution": {
     "iopub.execute_input": "2025-09-01T02:11:39.262265Z",
     "iopub.status.busy": "2025-09-01T02:11:39.261981Z",
     "iopub.status.idle": "2025-09-01T02:11:39.336930Z",
     "shell.execute_reply": "2025-09-01T02:11:39.335895Z"
    },
    "papermill": {
     "duration": 0.086407,
     "end_time": "2025-09-01T02:11:39.338395",
     "exception": false,
     "start_time": "2025-09-01T02:11:39.251988",
     "status": "completed"
    },
    "tags": []
   },
   "outputs": [
    {
     "name": "stdout",
     "output_type": "stream",
     "text": [
      "<class 'pandas.core.frame.DataFrame'>\n",
      "RangeIndex: 150000 entries, 0 to 149999\n",
      "Data columns (total 15 columns):\n",
      " #   Column                             Non-Null Count   Dtype  \n",
      "---  ------                             --------------   -----  \n",
      " 0   Time                               150000 non-null  object \n",
      " 1   Vehicle Type                       150000 non-null  object \n",
      " 2   Pickup Location                    150000 non-null  object \n",
      " 3   Drop Location                      150000 non-null  object \n",
      " 4   Avg VTAT                           139500 non-null  float64\n",
      " 5   Avg CTAT                           102000 non-null  float64\n",
      " 6   Cancelled Rides by Customer        150000 non-null  float64\n",
      " 7   Reason for cancelling by Customer  150000 non-null  object \n",
      " 8   Cancelled Rides by Driver          150000 non-null  float64\n",
      " 9   Driver Cancellation Reason         150000 non-null  object \n",
      " 10  Incomplete Rides                   150000 non-null  float64\n",
      " 11  Incomplete Rides Reason            150000 non-null  object \n",
      " 12  Booking Value                      102000 non-null  float64\n",
      " 13  Ride Distance                      102000 non-null  float64\n",
      " 14  Payment Method                     102000 non-null  object \n",
      "dtypes: float64(7), object(8)\n",
      "memory usage: 17.2+ MB\n"
     ]
    }
   ],
   "source": [
    "df.info()"
   ]
  },
  {
   "cell_type": "markdown",
   "id": "a564ae7a",
   "metadata": {
    "papermill": {
     "duration": 0.008901,
     "end_time": "2025-09-01T02:11:39.356606",
     "exception": false,
     "start_time": "2025-09-01T02:11:39.347705",
     "status": "completed"
    },
    "tags": []
   },
   "source": [
    "## Droping the Nan value"
   ]
  },
  {
   "cell_type": "code",
   "execution_count": 14,
   "id": "aa8a5774",
   "metadata": {
    "execution": {
     "iopub.execute_input": "2025-09-01T02:11:39.376503Z",
     "iopub.status.busy": "2025-09-01T02:11:39.375713Z",
     "iopub.status.idle": "2025-09-01T02:11:39.459145Z",
     "shell.execute_reply": "2025-09-01T02:11:39.458371Z"
    },
    "papermill": {
     "duration": 0.095003,
     "end_time": "2025-09-01T02:11:39.460710",
     "exception": false,
     "start_time": "2025-09-01T02:11:39.365707",
     "status": "completed"
    },
    "tags": []
   },
   "outputs": [],
   "source": [
    "df=df.dropna()"
   ]
  },
  {
   "cell_type": "code",
   "execution_count": 15,
   "id": "ca40490a",
   "metadata": {
    "execution": {
     "iopub.execute_input": "2025-09-01T02:11:39.480548Z",
     "iopub.status.busy": "2025-09-01T02:11:39.480113Z",
     "iopub.status.idle": "2025-09-01T02:11:39.533941Z",
     "shell.execute_reply": "2025-09-01T02:11:39.532745Z"
    },
    "papermill": {
     "duration": 0.065406,
     "end_time": "2025-09-01T02:11:39.535512",
     "exception": false,
     "start_time": "2025-09-01T02:11:39.470106",
     "status": "completed"
    },
    "tags": []
   },
   "outputs": [
    {
     "name": "stdout",
     "output_type": "stream",
     "text": [
      "<class 'pandas.core.frame.DataFrame'>\n",
      "Index: 102000 entries, 1 to 149999\n",
      "Data columns (total 15 columns):\n",
      " #   Column                             Non-Null Count   Dtype  \n",
      "---  ------                             --------------   -----  \n",
      " 0   Time                               102000 non-null  object \n",
      " 1   Vehicle Type                       102000 non-null  object \n",
      " 2   Pickup Location                    102000 non-null  object \n",
      " 3   Drop Location                      102000 non-null  object \n",
      " 4   Avg VTAT                           102000 non-null  float64\n",
      " 5   Avg CTAT                           102000 non-null  float64\n",
      " 6   Cancelled Rides by Customer        102000 non-null  float64\n",
      " 7   Reason for cancelling by Customer  102000 non-null  object \n",
      " 8   Cancelled Rides by Driver          102000 non-null  float64\n",
      " 9   Driver Cancellation Reason         102000 non-null  object \n",
      " 10  Incomplete Rides                   102000 non-null  float64\n",
      " 11  Incomplete Rides Reason            102000 non-null  object \n",
      " 12  Booking Value                      102000 non-null  float64\n",
      " 13  Ride Distance                      102000 non-null  float64\n",
      " 14  Payment Method                     102000 non-null  object \n",
      "dtypes: float64(7), object(8)\n",
      "memory usage: 12.5+ MB\n"
     ]
    }
   ],
   "source": [
    "df.info()"
   ]
  },
  {
   "cell_type": "markdown",
   "id": "0cef6a84",
   "metadata": {
    "papermill": {
     "duration": 0.009118,
     "end_time": "2025-09-01T02:11:39.554158",
     "exception": false,
     "start_time": "2025-09-01T02:11:39.545040",
     "status": "completed"
    },
    "tags": []
   },
   "source": [
    "### After performing data cleaning, the dataset now contains 102,000 valid data points, which is a solid sample size for analysis. Missing values were appropriately handled — some were filled with values, while others were dropped based on relevance."
   ]
  },
  {
   "cell_type": "markdown",
   "id": "3ab461fa",
   "metadata": {
    "papermill": {
     "duration": 0.009001,
     "end_time": "2025-09-01T02:11:39.572460",
     "exception": false,
     "start_time": "2025-09-01T02:11:39.563459",
     "status": "completed"
    },
    "tags": []
   },
   "source": [
    "# EXPLORATORY DATA ANALYSIS"
   ]
  },
  {
   "cell_type": "markdown",
   "id": "aa06ec52",
   "metadata": {
    "papermill": {
     "duration": 0.008938,
     "end_time": "2025-09-01T02:11:39.590703",
     "exception": false,
     "start_time": "2025-09-01T02:11:39.581765",
     "status": "completed"
    },
    "tags": []
   },
   "source": [
    "## Feature Engineering\n",
    "### The Time is an important factor lets divide the time into 4 Time zone\n",
    "#### Zone 1: 6am to 12pm Morning\n",
    "#### Zone 2: 12pm to 6pm Afternoon\n",
    "#### Zone 3: 6pm to 12am Evenings\n",
    "#### Zone 4: 12 am to 6 am Late nights"
   ]
  },
  {
   "cell_type": "code",
   "execution_count": 16,
   "id": "3c547a0f",
   "metadata": {
    "execution": {
     "iopub.execute_input": "2025-09-01T02:11:39.611145Z",
     "iopub.status.busy": "2025-09-01T02:11:39.610246Z",
     "iopub.status.idle": "2025-09-01T02:11:39.897201Z",
     "shell.execute_reply": "2025-09-01T02:11:39.896501Z"
    },
    "papermill": {
     "duration": 0.298974,
     "end_time": "2025-09-01T02:11:39.898787",
     "exception": false,
     "start_time": "2025-09-01T02:11:39.599813",
     "status": "completed"
    },
    "tags": []
   },
   "outputs": [],
   "source": [
    "df['Time'] = pd.to_datetime(df['Time'], format='%H:%M:%S').dt.time"
   ]
  },
  {
   "cell_type": "code",
   "execution_count": 17,
   "id": "a6a29fe3",
   "metadata": {
    "execution": {
     "iopub.execute_input": "2025-09-01T02:11:39.918996Z",
     "iopub.status.busy": "2025-09-01T02:11:39.918158Z",
     "iopub.status.idle": "2025-09-01T02:11:40.265143Z",
     "shell.execute_reply": "2025-09-01T02:11:40.264466Z"
    },
    "papermill": {
     "duration": 0.35856,
     "end_time": "2025-09-01T02:11:40.266618",
     "exception": false,
     "start_time": "2025-09-01T02:11:39.908058",
     "status": "completed"
    },
    "tags": []
   },
   "outputs": [],
   "source": [
    "df['Hour'] = pd.to_datetime(df['Time'], format='%H:%M:%S').dt.hour"
   ]
  },
  {
   "cell_type": "code",
   "execution_count": 18,
   "id": "5720a2f8",
   "metadata": {
    "execution": {
     "iopub.execute_input": "2025-09-01T02:11:40.286661Z",
     "iopub.status.busy": "2025-09-01T02:11:40.285846Z",
     "iopub.status.idle": "2025-09-01T02:11:40.290545Z",
     "shell.execute_reply": "2025-09-01T02:11:40.289871Z"
    },
    "papermill": {
     "duration": 0.015992,
     "end_time": "2025-09-01T02:11:40.291847",
     "exception": false,
     "start_time": "2025-09-01T02:11:40.275855",
     "status": "completed"
    },
    "tags": []
   },
   "outputs": [],
   "source": [
    "#we are using 24hr format\n",
    "def getTimebyZone(Hour):\n",
    "    if Hour >=6 and Hour <=12:\n",
    "        return 'Morning'\n",
    "    elif Hour>12 and Hour<=18:\n",
    "        return 'Afternoon'\n",
    "    elif Hour >18 and Hour<=24:\n",
    "        return 'Evenings'\n",
    "    elif Hour >=0 and Hour <6:\n",
    "        return 'LateNights'\n",
    "        "
   ]
  },
  {
   "cell_type": "code",
   "execution_count": 19,
   "id": "8ce9f472",
   "metadata": {
    "execution": {
     "iopub.execute_input": "2025-09-01T02:11:40.311751Z",
     "iopub.status.busy": "2025-09-01T02:11:40.311411Z",
     "iopub.status.idle": "2025-09-01T02:11:40.337204Z",
     "shell.execute_reply": "2025-09-01T02:11:40.336545Z"
    },
    "papermill": {
     "duration": 0.037519,
     "end_time": "2025-09-01T02:11:40.338749",
     "exception": false,
     "start_time": "2025-09-01T02:11:40.301230",
     "status": "completed"
    },
    "tags": []
   },
   "outputs": [],
   "source": [
    "df['TimeZone'] = df['Hour'].apply(getTimebyZone)"
   ]
  },
  {
   "cell_type": "code",
   "execution_count": 20,
   "id": "5d3bb341",
   "metadata": {
    "execution": {
     "iopub.execute_input": "2025-09-01T02:11:40.358821Z",
     "iopub.status.busy": "2025-09-01T02:11:40.358142Z",
     "iopub.status.idle": "2025-09-01T02:11:40.361721Z",
     "shell.execute_reply": "2025-09-01T02:11:40.361055Z"
    },
    "papermill": {
     "duration": 0.014841,
     "end_time": "2025-09-01T02:11:40.363065",
     "exception": false,
     "start_time": "2025-09-01T02:11:40.348224",
     "status": "completed"
    },
    "tags": []
   },
   "outputs": [],
   "source": [
    "#df.info()"
   ]
  },
  {
   "cell_type": "code",
   "execution_count": 21,
   "id": "f111b411",
   "metadata": {
    "execution": {
     "iopub.execute_input": "2025-09-01T02:11:40.383119Z",
     "iopub.status.busy": "2025-09-01T02:11:40.382451Z",
     "iopub.status.idle": "2025-09-01T02:11:40.389151Z",
     "shell.execute_reply": "2025-09-01T02:11:40.388479Z"
    },
    "papermill": {
     "duration": 0.018027,
     "end_time": "2025-09-01T02:11:40.390441",
     "exception": false,
     "start_time": "2025-09-01T02:11:40.372414",
     "status": "completed"
    },
    "tags": []
   },
   "outputs": [
    {
     "data": {
      "text/plain": [
       "1         Afternoon\n",
       "2           Morning\n",
       "3         Afternoon\n",
       "4          Evenings\n",
       "5           Morning\n",
       "            ...    \n",
       "149995     Evenings\n",
       "149996    Afternoon\n",
       "149997      Morning\n",
       "149998      Morning\n",
       "149999    Afternoon\n",
       "Name: TimeZone, Length: 102000, dtype: object"
      ]
     },
     "execution_count": 21,
     "metadata": {},
     "output_type": "execute_result"
    }
   ],
   "source": [
    "df['TimeZone']"
   ]
  },
  {
   "cell_type": "markdown",
   "id": "b130c59a",
   "metadata": {
    "papermill": {
     "duration": 0.008823,
     "end_time": "2025-09-01T02:11:40.408549",
     "exception": false,
     "start_time": "2025-09-01T02:11:40.399726",
     "status": "completed"
    },
    "tags": []
   },
   "source": [
    "-"
   ]
  },
  {
   "cell_type": "markdown",
   "id": "9f5eb061",
   "metadata": {
    "papermill": {
     "duration": 0.008706,
     "end_time": "2025-09-01T02:11:40.426230",
     "exception": false,
     "start_time": "2025-09-01T02:11:40.417524",
     "status": "completed"
    },
    "tags": []
   },
   "source": [
    "## Heatmap"
   ]
  },
  {
   "cell_type": "code",
   "execution_count": 22,
   "id": "2efaac46",
   "metadata": {
    "execution": {
     "iopub.execute_input": "2025-09-01T02:11:40.445665Z",
     "iopub.status.busy": "2025-09-01T02:11:40.445013Z",
     "iopub.status.idle": "2025-09-01T02:11:40.930697Z",
     "shell.execute_reply": "2025-09-01T02:11:40.929668Z"
    },
    "papermill": {
     "duration": 0.497038,
     "end_time": "2025-09-01T02:11:40.932256",
     "exception": false,
     "start_time": "2025-09-01T02:11:40.435218",
     "status": "completed"
    },
    "tags": []
   },
   "outputs": [
    {
     "data": {
      "image/png": "[encoded data removed]",
      "text/plain": [
       "<Figure size 640x480 with 2 Axes>"
      ]
     },
     "metadata": {},
     "output_type": "display_data"
    }
   ],
   "source": [
    "sns.heatmap(df.corr(numeric_only=True), annot=True, cmap=\"coolwarm\")\n",
    "plt.title(\"Feature Correlation Heatmap\")\n",
    "plt.show()"
   ]
  },
  {
   "cell_type": "markdown",
   "id": "2a564637",
   "metadata": {
    "papermill": {
     "duration": 0.010446,
     "end_time": "2025-09-01T02:11:40.953941",
     "exception": false,
     "start_time": "2025-09-01T02:11:40.943495",
     "status": "completed"
    },
    "tags": []
   },
   "source": [
    "## Booking Value Distribution Across Time Zones\n",
    "\n",
    "### To analyze how booking values vary throughout the day, we segmented the data into four time zones: Morning, Afternoon, Evening, and Late Nights."
   ]
  },
  {
   "cell_type": "code",
   "execution_count": 23,
   "id": "6a00a7ff",
   "metadata": {
    "execution": {
     "iopub.execute_input": "2025-09-01T02:11:40.976281Z",
     "iopub.status.busy": "2025-09-01T02:11:40.975956Z",
     "iopub.status.idle": "2025-09-01T02:11:41.211075Z",
     "shell.execute_reply": "2025-09-01T02:11:41.210246Z"
    },
    "papermill": {
     "duration": 0.248329,
     "end_time": "2025-09-01T02:11:41.212790",
     "exception": false,
     "start_time": "2025-09-01T02:11:40.964461",
     "status": "completed"
    },
    "tags": []
   },
   "outputs": [
    {
     "data": {
      "image/png": "[encoded data removed]",
      "text/plain": [
       "<Figure size 1000x600 with 1 Axes>"
      ]
     },
     "metadata": {},
     "output_type": "display_data"
    }
   ],
   "source": [
    "plt.figure(figsize=(10, 6))\n",
    "sns.boxplot(x='TimeZone', y='Booking Value', data=df, palette='Set2')\n",
    "plt.title(\"Booking Value Distribution by Time Zone\")\n",
    "plt.ylabel(\"Booking Amount ($)\")\n",
    "plt.xlabel(\"Time of Day\")\n",
    "plt.show()"
   ]
  },
  {
   "cell_type": "markdown",
   "id": "d49eac81",
   "metadata": {
    "papermill": {
     "duration": 0.011229,
     "end_time": "2025-09-01T02:11:41.235675",
     "exception": false,
     "start_time": "2025-09-01T02:11:41.224446",
     "status": "completed"
    },
    "tags": []
   },
   "source": [
    "### The boxplot below illustrates the distribution of booking amounts for each time segment. While all time zones show a similar distribution pattern, Afternoon and Morning bookings appear to have a slightly higher median value. However, all periods contain noticeable outliers, indicating the presence of high-value bookings across all time zones.\n",
    "\n",
    "### This insight helps in understanding peak revenue-generating periods and can support dynamic pricing or promotional strategies."
   ]
  },
  {
   "cell_type": "markdown",
   "id": "adfda123",
   "metadata": {
    "papermill": {
     "duration": 0.011163,
     "end_time": "2025-09-01T02:11:41.258202",
     "exception": false,
     "start_time": "2025-09-01T02:11:41.247039",
     "status": "completed"
    },
    "tags": []
   },
   "source": [
    "## Most Active Booking Hours\n",
    "\n",
    "### This bar chart visualizes the number of bookings across different time zones of the day."
   ]
  },
  {
   "cell_type": "code",
   "execution_count": 24,
   "id": "f81ac27c",
   "metadata": {
    "execution": {
     "iopub.execute_input": "2025-09-01T02:11:41.282887Z",
     "iopub.status.busy": "2025-09-01T02:11:41.282218Z",
     "iopub.status.idle": "2025-09-01T02:11:41.479158Z",
     "shell.execute_reply": "2025-09-01T02:11:41.478134Z"
    },
    "papermill": {
     "duration": 0.210988,
     "end_time": "2025-09-01T02:11:41.480788",
     "exception": false,
     "start_time": "2025-09-01T02:11:41.269800",
     "status": "completed"
    },
    "tags": []
   },
   "outputs": [
    {
     "data": {
      "image/png": "[encoded data removed]",
      "text/plain": [
       "<Figure size 640x480 with 1 Axes>"
      ]
     },
     "metadata": {},
     "output_type": "display_data"
    }
   ],
   "source": [
    "sns.countplot(x='TimeZone', data=df, order=df['TimeZone'].value_counts().index, palette='pastel')\n",
    "plt.title(\"Number of Bookings by Time Zone\")\n",
    "plt.ylabel(\"Number of Bookings\")\n",
    "plt.xlabel(\"Time of Day\")\n",
    "plt.show()"
   ]
  },
  {
   "cell_type": "markdown",
   "id": "be1c7572",
   "metadata": {
    "papermill": {
     "duration": 0.011949,
     "end_time": "2025-09-01T02:11:41.504888",
     "exception": false,
     "start_time": "2025-09-01T02:11:41.492939",
     "status": "completed"
    },
    "tags": []
   },
   "source": [
    "### The afternoon time zone has the highest volume of bookings, followed by morning, with Late night having the least. This insight can help ride-hailing platforms better allocate driver availability and manage operational resources more efficiently."
   ]
  },
  {
   "cell_type": "markdown",
   "id": "b074d6b1",
   "metadata": {
    "papermill": {
     "duration": 0.012295,
     "end_time": "2025-09-01T02:11:41.529146",
     "exception": false,
     "start_time": "2025-09-01T02:11:41.516851",
     "status": "completed"
    },
    "tags": []
   },
   "source": [
    "## Most Preferred Uber Vehicle Types\n",
    "\n",
    "### This bar chart shows the number of bookings for different Uber vehicle categories. Auto emerges as the most popular choice, followed by Go Mini and Go Sedan, indicating a strong preference for economical and compact transport options."
   ]
  },
  {
   "cell_type": "code",
   "execution_count": 25,
   "id": "eb32c422",
   "metadata": {
    "execution": {
     "iopub.execute_input": "2025-09-01T02:11:41.554966Z",
     "iopub.status.busy": "2025-09-01T02:11:41.554599Z",
     "iopub.status.idle": "2025-09-01T02:11:41.760168Z",
     "shell.execute_reply": "2025-09-01T02:11:41.759309Z"
    },
    "papermill": {
     "duration": 0.220389,
     "end_time": "2025-09-01T02:11:41.761799",
     "exception": false,
     "start_time": "2025-09-01T02:11:41.541410",
     "status": "completed"
    },
    "tags": []
   },
   "outputs": [
    {
     "data": {
      "image/png": "[encoded data removed]",
      "text/plain": [
       "<Figure size 640x480 with 1 Axes>"
      ]
     },
     "metadata": {},
     "output_type": "display_data"
    }
   ],
   "source": [
    "sns.countplot(x='Vehicle Type', data=df, order=df['Vehicle Type'].value_counts().index, palette='pastel')\n",
    "plt.title(\"Most opted Uber Vechiles\")\n",
    "plt.ylabel(\"Number of Bookings\")\n",
    "plt.xlabel(\"Car Type\")\n",
    "plt.show()"
   ]
  },
  {
   "cell_type": "markdown",
   "id": "92648126",
   "metadata": {
    "papermill": {
     "duration": 0.012447,
     "end_time": "2025-09-01T02:11:41.787080",
     "exception": false,
     "start_time": "2025-09-01T02:11:41.774633",
     "status": "completed"
    },
    "tags": []
   },
   "source": [
    "## Top Pickup location vs Least Pickup Location"
   ]
  },
  {
   "cell_type": "code",
   "execution_count": 26,
   "id": "72dbe3c1",
   "metadata": {
    "execution": {
     "iopub.execute_input": "2025-09-01T02:11:41.813774Z",
     "iopub.status.busy": "2025-09-01T02:11:41.813463Z",
     "iopub.status.idle": "2025-09-01T02:11:41.826061Z",
     "shell.execute_reply": "2025-09-01T02:11:41.825374Z"
    },
    "papermill": {
     "duration": 0.027507,
     "end_time": "2025-09-01T02:11:41.827370",
     "exception": false,
     "start_time": "2025-09-01T02:11:41.799863",
     "status": "completed"
    },
    "tags": []
   },
   "outputs": [],
   "source": [
    "location_counts = df['Pickup Location'].value_counts()"
   ]
  },
  {
   "cell_type": "code",
   "execution_count": 27,
   "id": "36bc9c6b",
   "metadata": {
    "execution": {
     "iopub.execute_input": "2025-09-01T02:11:41.856724Z",
     "iopub.status.busy": "2025-09-01T02:11:41.855825Z",
     "iopub.status.idle": "2025-09-01T02:11:41.862377Z",
     "shell.execute_reply": "2025-09-01T02:11:41.861498Z"
    },
    "papermill": {
     "duration": 0.021834,
     "end_time": "2025-09-01T02:11:41.863758",
     "exception": false,
     "start_time": "2025-09-01T02:11:41.841924",
     "status": "completed"
    },
    "tags": []
   },
   "outputs": [
    {
     "name": "stdout",
     "output_type": "stream",
     "text": [
      "Top 10 location Pickup Location\n",
      "Khandsa            662\n",
      "Barakhamba Road    658\n",
      "Kanhaiya Nagar     644\n",
      "Madipur            644\n",
      "Subhash Chowk      635\n",
      "Name: count, dtype: int64\n",
      "Top 10 location Pickup Location\n",
      "Faridabad Sector 15    532\n",
      "Arjangarh              531\n",
      "Chirag Delhi           529\n",
      "Old Gurgaon            527\n",
      "Vinobapuri             503\n",
      "Name: count, dtype: int64\n"
     ]
    }
   ],
   "source": [
    "top_10 = location_counts.head(5)\n",
    "least_10 = location_counts.tail(5)\n",
    "#location_counts\n",
    "print(\"Top 10 location\", top_10)\n",
    "print(\"Top 10 location\", least_10)"
   ]
  },
  {
   "cell_type": "code",
   "execution_count": 28,
   "id": "f50d6bbd",
   "metadata": {
    "execution": {
     "iopub.execute_input": "2025-09-01T02:11:41.891676Z",
     "iopub.status.busy": "2025-09-01T02:11:41.891018Z",
     "iopub.status.idle": "2025-09-01T02:11:42.060525Z",
     "shell.execute_reply": "2025-09-01T02:11:42.059588Z"
    },
    "papermill": {
     "duration": 0.184857,
     "end_time": "2025-09-01T02:11:42.062032",
     "exception": false,
     "start_time": "2025-09-01T02:11:41.877175",
     "status": "completed"
    },
    "tags": []
   },
   "outputs": [
    {
     "data": {
      "image/png": "[encoded data removed]",
      "text/plain": [
       "<Figure size 1000x600 with 1 Axes>"
      ]
     },
     "metadata": {},
     "output_type": "display_data"
    }
   ],
   "source": [
    "plt.figure(figsize=(10, 6))\n",
    "sns.barplot(x=top_10.values, y=top_10.index, palette='viridis')\n",
    "plt.title(\"Top 5 Most Picked Locations\")\n",
    "plt.xlabel(\"Number of Pickups\")\n",
    "plt.ylabel(\"Location\")\n",
    "plt.show()"
   ]
  },
  {
   "cell_type": "markdown",
   "id": "aeb4240b",
   "metadata": {
    "papermill": {
     "duration": 0.012838,
     "end_time": "2025-09-01T02:11:42.088472",
     "exception": false,
     "start_time": "2025-09-01T02:11:42.075634",
     "status": "completed"
    },
    "tags": []
   },
   "source": [
    "### This chart highlights the five most frequently selected pickup locations by customers. Khandsa leads the list, followed closely by Barakhamba Road, Kanhaiya Nagar, Madipur, and Subhash Chowk.\n",
    "\n",
    "### These locations likely represent key travel hubs or densely populated areas, indicating high demand zones. Such insights can help Uber optimize driver allocation and improve service efficiency in these regions."
   ]
  },
  {
   "cell_type": "code",
   "execution_count": 29,
   "id": "e47beeb9",
   "metadata": {
    "execution": {
     "iopub.execute_input": "2025-09-01T02:11:42.115715Z",
     "iopub.status.busy": "2025-09-01T02:11:42.115420Z",
     "iopub.status.idle": "2025-09-01T02:11:42.279119Z",
     "shell.execute_reply": "2025-09-01T02:11:42.278074Z"
    },
    "papermill": {
     "duration": 0.179267,
     "end_time": "2025-09-01T02:11:42.280735",
     "exception": false,
     "start_time": "2025-09-01T02:11:42.101468",
     "status": "completed"
    },
    "tags": []
   },
   "outputs": [
    {
     "data": {
      "image/png": "[encoded data removed]",
      "text/plain": [
       "<Figure size 1000x600 with 1 Axes>"
      ]
     },
     "metadata": {},
     "output_type": "display_data"
    }
   ],
   "source": [
    "plt.figure(figsize=(10, 6))\n",
    "sns.barplot(x=least_10.values, y=least_10.index, palette='viridis')\n",
    "plt.title(\"Least 5 Most Picked Locations\")\n",
    "plt.xlabel(\"Number of Pickups\")\n",
    "plt.ylabel(\"Location\")\n",
    "plt.show()"
   ]
  },
  {
   "cell_type": "markdown",
   "id": "4220f37a",
   "metadata": {
    "papermill": {
     "duration": 0.013365,
     "end_time": "2025-09-01T02:11:42.307984",
     "exception": false,
     "start_time": "2025-09-01T02:11:42.294619",
     "status": "completed"
    },
    "tags": []
   },
   "source": [
    "### This visualization shows the five pickup points with the lowest booking counts. Faridabad Sector 15, Arjangarh, Chirag Delhi, Old Gurgaon, and Vinobapuri appear to be the least preferred or least active locations for Uber bookings.\n",
    "\n",
    "### These areas may represent regions with lower demand, less population density, or limited Uber availability. Recognizing such zones can guide strategic expansion, marketing efforts, or fleet redistribution."
   ]
  },
  {
   "cell_type": "markdown",
   "id": "b75095be",
   "metadata": {
    "papermill": {
     "duration": 0.013204,
     "end_time": "2025-09-01T02:11:42.334723",
     "exception": false,
     "start_time": "2025-09-01T02:11:42.321519",
     "status": "completed"
    },
    "tags": []
   },
   "source": [
    "## Preferred Payment Methods for Uber Bookings"
   ]
  },
  {
   "cell_type": "code",
   "execution_count": 30,
   "id": "b472a1b3",
   "metadata": {
    "execution": {
     "iopub.execute_input": "2025-09-01T02:11:42.363767Z",
     "iopub.status.busy": "2025-09-01T02:11:42.363059Z",
     "iopub.status.idle": "2025-09-01T02:11:42.375902Z",
     "shell.execute_reply": "2025-09-01T02:11:42.374916Z"
    },
    "papermill": {
     "duration": 0.029001,
     "end_time": "2025-09-01T02:11:42.377451",
     "exception": false,
     "start_time": "2025-09-01T02:11:42.348450",
     "status": "completed"
    },
    "tags": []
   },
   "outputs": [],
   "source": [
    "payment_methods = df['Payment Method'].value_counts()"
   ]
  },
  {
   "cell_type": "code",
   "execution_count": 31,
   "id": "b18da6b8",
   "metadata": {
    "execution": {
     "iopub.execute_input": "2025-09-01T02:11:42.406717Z",
     "iopub.status.busy": "2025-09-01T02:11:42.405909Z",
     "iopub.status.idle": "2025-09-01T02:11:42.412180Z",
     "shell.execute_reply": "2025-09-01T02:11:42.411410Z"
    },
    "papermill": {
     "duration": 0.022425,
     "end_time": "2025-09-01T02:11:42.413731",
     "exception": false,
     "start_time": "2025-09-01T02:11:42.391306",
     "status": "completed"
    },
    "tags": []
   },
   "outputs": [
    {
     "data": {
      "text/plain": [
       "Payment Method\n",
       "UPI            45909\n",
       "Cash           25367\n",
       "Uber Wallet    12276\n",
       "Credit Card    10209\n",
       "Debit Card      8239\n",
       "Name: count, dtype: int64"
      ]
     },
     "execution_count": 31,
     "metadata": {},
     "output_type": "execute_result"
    }
   ],
   "source": [
    "payment_methods"
   ]
  },
  {
   "cell_type": "code",
   "execution_count": 32,
   "id": "e5eb0246",
   "metadata": {
    "execution": {
     "iopub.execute_input": "2025-09-01T02:11:42.443617Z",
     "iopub.status.busy": "2025-09-01T02:11:42.443258Z",
     "iopub.status.idle": "2025-09-01T02:11:42.596653Z",
     "shell.execute_reply": "2025-09-01T02:11:42.595720Z"
    },
    "papermill": {
     "duration": 0.16993,
     "end_time": "2025-09-01T02:11:42.598159",
     "exception": false,
     "start_time": "2025-09-01T02:11:42.428229",
     "status": "completed"
    },
    "tags": []
   },
   "outputs": [
    {
     "data": {
      "image/png": "[encoded data removed]",
      "text/plain": [
       "<Figure size 1000x600 with 1 Axes>"
      ]
     },
     "metadata": {},
     "output_type": "display_data"
    }
   ],
   "source": [
    "plt.figure(figsize=(10, 6))\n",
    "sns.barplot(x=payment_methods.values, y=payment_methods.index, palette='viridis')\n",
    "plt.title(\"Payment Methods\")\n",
    "plt.xlabel(\"Number of Bookings\")\n",
    "plt.ylabel(\" Payment Method\")\n",
    "plt.show()"
   ]
  },
  {
   "cell_type": "markdown",
   "id": "23a1ae29",
   "metadata": {
    "papermill": {
     "duration": 0.014404,
     "end_time": "2025-09-01T02:11:42.627279",
     "exception": false,
     "start_time": "2025-09-01T02:11:42.612875",
     "status": "completed"
    },
    "tags": []
   },
   "source": [
    "### The majority of users prefer UPI (Unified Payments Interface) for their Uber rides, making it the most popular payment method by a significant margin. Cash payments come next, indicating a continued reliance on traditional payment methods.\n",
    "\n",
    "### Other modes like Uber Wallet, Credit Card, and Debit Card are used by fewer users, possibly due to digital wallet preferences or ease of UPI integration.\n",
    "\n",
    "### This insight can help Uber focus on maintaining seamless UPI support while potentially incentivizing wallet and card usage to diversify transaction channels."
   ]
  },
  {
   "cell_type": "markdown",
   "id": "b3706d68",
   "metadata": {
    "papermill": {
     "duration": 0.014492,
     "end_time": "2025-09-01T02:11:42.656108",
     "exception": false,
     "start_time": "2025-09-01T02:11:42.641616",
     "status": "completed"
    },
    "tags": []
   },
   "source": [
    "## Average Time Comparison: Driver Arrival vs Trip Duration"
   ]
  },
  {
   "cell_type": "code",
   "execution_count": 33,
   "id": "7ada1092",
   "metadata": {
    "execution": {
     "iopub.execute_input": "2025-09-01T02:11:42.686617Z",
     "iopub.status.busy": "2025-09-01T02:11:42.685815Z",
     "iopub.status.idle": "2025-09-01T02:11:42.689995Z",
     "shell.execute_reply": "2025-09-01T02:11:42.689153Z"
    },
    "papermill": {
     "duration": 0.021006,
     "end_time": "2025-09-01T02:11:42.691492",
     "exception": false,
     "start_time": "2025-09-01T02:11:42.670486",
     "status": "completed"
    },
    "tags": []
   },
   "outputs": [],
   "source": [
    "#df['Avg VTAT']"
   ]
  },
  {
   "cell_type": "code",
   "execution_count": 34,
   "id": "95abd6ab",
   "metadata": {
    "execution": {
     "iopub.execute_input": "2025-09-01T02:11:42.721901Z",
     "iopub.status.busy": "2025-09-01T02:11:42.721009Z",
     "iopub.status.idle": "2025-09-01T02:11:42.725184Z",
     "shell.execute_reply": "2025-09-01T02:11:42.724324Z"
    },
    "papermill": {
     "duration": 0.02076,
     "end_time": "2025-09-01T02:11:42.726770",
     "exception": false,
     "start_time": "2025-09-01T02:11:42.706010",
     "status": "completed"
    },
    "tags": []
   },
   "outputs": [],
   "source": [
    "#df['Avg CTAT']"
   ]
  },
  {
   "cell_type": "code",
   "execution_count": 35,
   "id": "1023e689",
   "metadata": {
    "execution": {
     "iopub.execute_input": "2025-09-01T02:11:42.756517Z",
     "iopub.status.busy": "2025-09-01T02:11:42.756158Z",
     "iopub.status.idle": "2025-09-01T02:11:42.763110Z",
     "shell.execute_reply": "2025-09-01T02:11:42.762226Z"
    },
    "papermill": {
     "duration": 0.023402,
     "end_time": "2025-09-01T02:11:42.764551",
     "exception": false,
     "start_time": "2025-09-01T02:11:42.741149",
     "status": "completed"
    },
    "tags": []
   },
   "outputs": [
    {
     "name": "stdout",
     "output_type": "stream",
     "text": [
      "Avg VTAT: 8.29 minutes\n",
      "Avg CTAT: 29.15 minutes\n"
     ]
    }
   ],
   "source": [
    "avg_vtat = df['Avg VTAT'].mean()\n",
    "avg_ctat = df['Avg CTAT'].mean()\n",
    "\n",
    "print(f\"Avg VTAT: {avg_vtat:.2f} minutes\")\n",
    "print(f\"Avg CTAT: {avg_ctat:.2f} minutes\")"
   ]
  },
  {
   "cell_type": "code",
   "execution_count": 36,
   "id": "543608c0",
   "metadata": {
    "execution": {
     "iopub.execute_input": "2025-09-01T02:11:42.801329Z",
     "iopub.status.busy": "2025-09-01T02:11:42.801013Z",
     "iopub.status.idle": "2025-09-01T02:11:42.973718Z",
     "shell.execute_reply": "2025-09-01T02:11:42.972535Z"
    },
    "papermill": {
     "duration": 0.195121,
     "end_time": "2025-09-01T02:11:42.975695",
     "exception": false,
     "start_time": "2025-09-01T02:11:42.780574",
     "status": "completed"
    },
    "tags": []
   },
   "outputs": [
    {
     "data": {
      "image/png": "[encoded data removed]",
      "text/plain": [
       "<Figure size 600x500 with 1 Axes>"
      ]
     },
     "metadata": {},
     "output_type": "display_data"
    }
   ],
   "source": [
    "avg_df = pd.DataFrame({\n",
    "    'Type': ['Driver to Pickup (VTAT)', 'Trip Duration (CTAT)'],\n",
    "    'Avg Time (min)': [avg_vtat, avg_ctat]\n",
    "})\n",
    "\n",
    "# Plot\n",
    "plt.figure(figsize=(6, 5))\n",
    "sns.barplot(x='Type', y='Avg Time (min)', data=avg_df, palette='Blues')\n",
    "plt.title(\"Average Time Comparison: VTAT vs CTAT\")\n",
    "plt.ylabel(\"Time (minutes)\")\n",
    "plt.xlabel(\"\")\n",
    "plt.xticks(rotation=10)\n",
    "plt.tight_layout()\n",
    "plt.show()"
   ]
  },
  {
   "cell_type": "markdown",
   "id": "57416e3b",
   "metadata": {
    "papermill": {
     "duration": 0.018152,
     "end_time": "2025-09-01T02:11:43.015190",
     "exception": false,
     "start_time": "2025-09-01T02:11:42.997038",
     "status": "completed"
    },
    "tags": []
   },
   "source": [
    "### This chart compares two key time metrics:\n",
    "\n",
    "### VTAT (Vehicle to Arrival Time): The average time taken by the driver to reach the pickup location is approximately 8.5 minutes.\n",
    "\n",
    "### CTAT (Customer Trip Arrival Time): The actual trip duration from pickup to drop-off is significantly higher, averaging around 29.2 minutes.\n",
    "\n",
    "### The data clearly shows that while driver arrival is relatively quick, the majority of time is spent in the actual ride - an important insight for understanding operational efficiency and customer time investment."
   ]
  },
  {
   "cell_type": "markdown",
   "id": "f37df94c",
   "metadata": {
    "papermill": {
     "duration": 0.015507,
     "end_time": "2025-09-01T02:11:43.050035",
     "exception": false,
     "start_time": "2025-09-01T02:11:43.034528",
     "status": "completed"
    },
    "tags": []
   },
   "source": [
    "# Feature Scope\n",
    "\n",
    "### Build a machine learning model"
   ]
  }
 ],
 "metadata": {
  "kaggle": {
   "accelerator": "none",
   "dataSources": [
    {
     "datasetId": 8032385,
     "sourceId": 12709507,
     "sourceType": "datasetVersion"
    }
   ],
   "dockerImageVersionId": 31089,
   "isGpuEnabled": false,
   "isInternetEnabled": true,
   "language": "python",
   "sourceType": "notebook"
  },
  "kernelspec": {
   "display_name": "Python 3",
   "language": "python",
   "name": "python3"
  },
  "language_info": {
   "codemirror_mode": {
    "name": "ipython",
    "version": 3
   },
   "file_extension": ".py",
   "mimetype": "text/x-python",
   "name": "python",
   "nbconvert_exporter": "python",
   "pygments_lexer": "ipython3",
   "version": "3.11.13"
  },
  "papermill": {
   "default_parameters": {},
   "duration": 16.852299,
   "end_time": "2025-09-01T02:11:43.788508",
   "environment_variables": {},
   "exception": null,
   "input_path": "__notebook__.ipynb",
   "output_path": "__notebook__.ipynb",
   "parameters": {},
   "start_time": "2025-09-01T02:11:26.936209",
   "version": "2.6.0"
  }
 },
 "nbformat": 4,
 "nbformat_minor": 5
}
